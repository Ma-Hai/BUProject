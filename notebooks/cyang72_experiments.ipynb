{
 "cells": [
  {
   "cell_type": "code",
   "execution_count": null,
   "metadata": {},
   "outputs": [],
   "source": [
    "import pandas as pd\n",
    "\n",
    "# Load your Yelp reviews\n",
    "df = pd.read_csv(\"yelp_reviews.csv\", parse_dates=[\"date\"])\n",
    "\n",
    "# Clean missing values\n",
    "df = df.dropna(subset=[\"review_text\", \"date\", \"zip_code\"])\n",
    "\n",
    "df[\"month\"] = df[\"date\"].dt.to_period(\"M\")\n",
    "\n",
    "trendy_keywords = [\n",
    "    \"craft\", \"organic\", \"locally sourced\", \"plant-based\", \"minimalist\",\n",
    "    \"natural wine\", \"matcha\", \"artisanal\", \"popup\", \"aesthetic\", \"concept\", \n",
    "    \"third wave\", \"vibe\", \"clean design\", \"sustainable\", \"cold brew\", \"communal\"\n",
    "]\n"
   ]
  },
  {
   "cell_type": "code",
   "execution_count": null,
   "metadata": {},
   "outputs": [],
   "source": [
    "import spacy\n",
    "from nltk.corpus import stopwords\n",
    "import re\n",
    "\n",
    "nlp = spacy.load(\"en_core_web_sm\")\n",
    "stop_words = set(stopwords.words(\"english\"))\n",
    "\n",
    "def preprocess_text(text):\n",
    "    tokens = re.findall(r'\\b\\w+\\b', text.lower())  # remove punctuation\n",
    "    return [token for token in tokens if token not in stop_words]\n",
    "\n",
    "df[\"tokens\"] = df[\"review_text\"].apply(preprocess_text)\n"
   ]
  },
  {
   "cell_type": "code",
   "execution_count": null,
   "metadata": {},
   "outputs": [
    {
     "ename": "NameError",
     "evalue": "name 'df_merged' is not defined",
     "output_type": "error",
     "traceback": [
      "\u001b[31m---------------------------------------------------------------------------\u001b[39m",
      "\u001b[31mNameError\u001b[39m                                 Traceback (most recent call last)",
      "\u001b[36mCell\u001b[39m\u001b[36m \u001b[39m\u001b[32mIn[1]\u001b[39m\u001b[32m, line 6\u001b[39m\n\u001b[32m      2\u001b[39m \u001b[38;5;28;01mimport\u001b[39;00m\u001b[38;5;250m \u001b[39m\u001b[34;01mseaborn\u001b[39;00m\u001b[38;5;250m \u001b[39m\u001b[38;5;28;01mas\u001b[39;00m\u001b[38;5;250m \u001b[39m\u001b[34;01msns\u001b[39;00m\n\u001b[32m      4\u001b[39m sample_zip = \u001b[33m\"\u001b[39m\u001b[33m19125\u001b[39m\u001b[33m\"\u001b[39m  \u001b[38;5;66;03m# Fishtown\u001b[39;00m\n\u001b[32m----> \u001b[39m\u001b[32m6\u001b[39m sample = df_merged[df_merged[\u001b[33m\"\u001b[39m\u001b[33mzip_code\u001b[39m\u001b[33m\"\u001b[39m] == sample_zip]\n\u001b[32m      8\u001b[39m fig, ax1 = plt.subplots()\n\u001b[32m     10\u001b[39m ax1.set_xlabel(\u001b[33m\"\u001b[39m\u001b[33mMonth\u001b[39m\u001b[33m\"\u001b[39m)\n",
      "\u001b[31mNameError\u001b[39m: name 'df_merged' is not defined"
     ]
    }
   ],
   "source": [
    "import matplotlib.pyplot as plt\n",
    "import seaborn as sns\n",
    "\n",
    "sample_zip = \"19125\"  # Fishtown\n",
    "\n",
    "sample = df_merged[df_merged[\"zip_code\"] == sample_zip]\n",
    "\n",
    "fig, ax1 = plt.subplots()\n",
    "\n",
    "ax1.set_xlabel(\"Month\")\n",
    "ax1.set_ylabel(\"Trendiness (Yelp)\", color=\"tab:blue\")\n",
    "ax1.plot(sample[\"month\"].astype(str), sample[\"trendy_freq\"], color=\"tab:blue\")\n",
    "ax1.tick_params(axis='y', labelcolor=\"tab:blue\")\n",
    "\n",
    "ax2 = ax1.twinx()\n",
    "ax2.set_ylabel(\"ZHVI\", color=\"tab:red\")\n",
    "ax2.plot(sample[\"month\"].astype(str), sample[\"zhvi\"], color=\"tab:red\")\n",
    "ax2.tick_params(axis='y', labelcolor=\"tab:red\")\n",
    "\n",
    "plt.title(f\"Trendiness vs ZHVI: ZIP {sample_zip}\")\n",
    "plt.xticks(rotation=45)\n",
    "plt.tight_layout()\n",
    "plt.show()\n"
   ]
  }
 ],
 "metadata": {
  "kernelspec": {
   "display_name": "project",
   "language": "python",
   "name": "python3"
  },
  "language_info": {
   "codemirror_mode": {
    "name": "ipython",
    "version": 3
   },
   "file_extension": ".py",
   "mimetype": "text/x-python",
   "name": "python",
   "nbconvert_exporter": "python",
   "pygments_lexer": "ipython3",
   "version": "3.12.0"
  }
 },
 "nbformat": 4,
 "nbformat_minor": 2
}
